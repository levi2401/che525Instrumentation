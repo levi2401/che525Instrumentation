{
  "nbformat": 4,
  "nbformat_minor": 0,
  "metadata": {
    "colab": {
      "provenance": [],
      "collapsed_sections": [
        "JKVEkEr90NPE"
      ],
      "authorship_tag": "ABX9TyPiZlJvVIVGBmBvdgbMdJCK",
      "include_colab_link": true
    },
    "kernelspec": {
      "name": "python3",
      "display_name": "Python 3"
    },
    "language_info": {
      "name": "python"
    }
  },
  "cells": [
    {
      "cell_type": "markdown",
      "metadata": {
        "id": "view-in-github",
        "colab_type": "text"
      },
      "source": [
        "<a href=\"https://colab.research.google.com/github/levi2401/che525Instrumentation/blob/main/LeviBrown_Day9.ipynb\" target=\"_parent\"><img src=\"https://colab.research.google.com/assets/colab-badge.svg\" alt=\"Open In Colab\"/></a>"
      ]
    },
    {
      "cell_type": "markdown",
      "source": [
        "![RHIT BANNER.png](data:image/png;base64,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)"
      ],
      "metadata": {
        "id": "kU4IjhJYzl6z"
      }
    },
    {
      "cell_type": "markdown",
      "source": [
        "\n",
        "# **Process Analytics - Linear Regression with non-polynomial equations**\n",
        "\n",
        "## Lecture notes of Levi Brown, Rose-Hulman Institute of Technology\n",
        "\n",
        "Let's look at the equation:\n",
        "\n",
        "$$ k=k_o*exp(\\dfrac{-E_A}{RT}) $$\n",
        "\n",
        "\n",
        "Can you do ordinary least squares fitting on this, assuming we have:\n",
        "\n",
        "\n",
        "*   Investigated diferent values of T?\n",
        "*   Measured k at those temperatures?\n",
        "\n",
        "Taking the natural log of both sides results in:\n",
        "\n",
        "$$ ln(k)=ln(k_o)+\\dfrac{-E_A}{RT} $$\n",
        "\n",
        "which can be fit in a standard linear model of form:\n",
        "\n",
        "$$ y=b+mx $$\n",
        "\n",
        "\n",
        "\n"
      ],
      "metadata": {
        "id": "4S6ZDpBCz7Yp"
      }
    },
    {
      "cell_type": "markdown",
      "source": [
        "# Section 2\n"
      ],
      "metadata": {
        "id": "JKVEkEr90NPE"
      }
    },
    {
      "cell_type": "markdown",
      "source": [
        "$$ k=k_o*exp(frac{-E_A}{R*T}) $$\n",
        "\n",
        "\n"
      ],
      "metadata": {
        "id": "l3oFzY0UzoPP"
      }
    }
  ]
}